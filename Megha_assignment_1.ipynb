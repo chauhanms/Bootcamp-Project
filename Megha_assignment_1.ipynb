{
  "nbformat": 4,
  "nbformat_minor": 5,
  "metadata": {
    "colab": {
      "name": "Megha_assignment 1.ipynb",
      "provenance": [],
      "collapsed_sections": [],
      "include_colab_link": true
    },
    "kernelspec": {
      "display_name": "Python 3",
      "language": "python",
      "name": "python3"
    },
    "language_info": {
      "codemirror_mode": {
        "name": "ipython",
        "version": 3
      },
      "file_extension": ".py",
      "mimetype": "text/x-python",
      "name": "python",
      "nbconvert_exporter": "python",
      "pygments_lexer": "ipython3",
      "version": "3.8.5"
    }
  },
  "cells": [
    {
      "cell_type": "markdown",
      "metadata": {
        "id": "view-in-github",
        "colab_type": "text"
      },
      "source": [
        "<a href=\"https://colab.research.google.com/github/chauhanms/Bootcamp-Project/blob/main/Megha_assignment_1.ipynb\" target=\"_parent\"><img src=\"https://colab.research.google.com/assets/colab-badge.svg\" alt=\"Open In Colab\"/></a>"
      ]
    },
    {
      "cell_type": "markdown",
      "metadata": {
        "id": "4997e8b9"
      },
      "source": [
        "# Create a list from the elements of a range from 1200 to 2000 with steps of 130, using list comprehension.(Hint - Using Range function)"
      ],
      "id": "4997e8b9"
    },
    {
      "cell_type": "code",
      "metadata": {
        "id": "c5a1cd4f",
        "colab": {
          "base_uri": "https://localhost:8080/"
        },
        "outputId": "c21ad835-7cc0-421b-c291-d252c1127f6a"
      },
      "source": [
        "for i in range(1200,2000,130):\n",
        "  print(i)"
      ],
      "id": "c5a1cd4f",
      "execution_count": null,
      "outputs": [
        {
          "output_type": "stream",
          "text": [
            "1200\n",
            "1330\n",
            "1460\n",
            "1590\n",
            "1720\n",
            "1850\n",
            "1980\n"
          ],
          "name": "stdout"
        }
      ]
    },
    {
      "cell_type": "markdown",
      "metadata": {
        "id": "b2526b1c"
      },
      "source": [
        "# Use list comprehension to contruct a new list but add 6 to each item.(Hint - add (int) 6 value for each value of list )"
      ],
      "id": "b2526b1c"
    },
    {
      "cell_type": "code",
      "metadata": {
        "id": "1b44666f",
        "colab": {
          "base_uri": "https://localhost:8080/"
        },
        "outputId": "e12c440d-a142-42bf-b0e0-e59c6a23ceb5"
      },
      "source": [
        "lst = [1,2,3,4,5,6]\n",
        "lst_2 = [x+6 for x in lst]\n",
        "print(lst_2)"
      ],
      "id": "1b44666f",
      "execution_count": null,
      "outputs": [
        {
          "output_type": "stream",
          "name": "stdout",
          "text": [
            "[7, 8, 9, 10, 11, 12]\n"
          ]
        }
      ]
    },
    {
      "cell_type": "code",
      "metadata": {
        "id": "413fd362"
      },
      "source": [
        ""
      ],
      "id": "413fd362",
      "execution_count": null,
      "outputs": []
    },
    {
      "cell_type": "markdown",
      "metadata": {
        "id": "dbc73dfe"
      },
      "source": [
        "# Create list comprehension using enumerate and add it's index value respectively, List index should be start from 1 not 0"
      ],
      "id": "dbc73dfe"
    },
    {
      "cell_type": "code",
      "metadata": {
        "id": "fc6ac777",
        "colab": {
          "base_uri": "https://localhost:8080/"
        },
        "outputId": "8c6428ea-e011-4923-ff0a-a5b77f435b8f"
      },
      "source": [
        "s = [ 2,7,9,43,23,57]\n",
        "counter_list = list(enumerate(s, 1))\n",
        "print(counter_list)"
      ],
      "id": "fc6ac777",
      "execution_count": null,
      "outputs": [
        {
          "output_type": "stream",
          "name": "stdout",
          "text": [
            "[(1, 2), (2, 7), (3, 9), (4, 43), (5, 23), (6, 57)]\n"
          ]
        }
      ]
    },
    {
      "cell_type": "code",
      "metadata": {
        "id": "63e261e9"
      },
      "source": [
        ""
      ],
      "id": "63e261e9",
      "execution_count": null,
      "outputs": []
    },
    {
      "cell_type": "code",
      "metadata": {
        "id": "9ccd97c6"
      },
      "source": [
        ""
      ],
      "id": "9ccd97c6",
      "execution_count": null,
      "outputs": []
    },
    {
      "cell_type": "markdown",
      "metadata": {
        "id": "91460759"
      },
      "source": [
        "# Using zip() function and list() function, create a merged list of tuples from the two lists given.\n",
        "\n"
      ],
      "id": "91460759"
    },
    {
      "cell_type": "code",
      "metadata": {
        "id": "b773e6dc",
        "colab": {
          "base_uri": "https://localhost:8080/"
        },
        "outputId": "ceb0890a-5582-47a6-b817-97ee571adc98"
      },
      "source": [
        "l1 = [1,7,9,23,56,89,13]\n",
        "l2 = [78,90,23,14,67,24,8]\n",
        "print(list(zip(l1,l2)))"
      ],
      "id": "b773e6dc",
      "execution_count": null,
      "outputs": [
        {
          "output_type": "stream",
          "name": "stdout",
          "text": [
            "[(1, 78), (7, 90), (9, 23), (23, 14), (56, 67), (89, 24), (13, 8)]\n"
          ]
        }
      ]
    },
    {
      "cell_type": "code",
      "metadata": {
        "id": "15d1c624"
      },
      "source": [
        ""
      ],
      "id": "15d1c624",
      "execution_count": null,
      "outputs": []
    },
    {
      "cell_type": "markdown",
      "metadata": {
        "id": "64c63970"
      },
      "source": [
        "# Make a list of square of every element of list1 in list comprehension Using Lambda inside map\n",
        "\n",
        "> Indented block\n",
        "\n"
      ],
      "id": "64c63970"
    },
    {
      "cell_type": "code",
      "metadata": {
        "id": "758cbdd5",
        "colab": {
          "base_uri": "https://localhost:8080/"
        },
        "outputId": "515afc72-984e-4b5e-8b58-150536e13a8a"
      },
      "source": [
        "list_1 = [4,7,9,12,15,20]\n",
        "list_2 = map(lambda x:x**2,list_1)\n",
        "print(list(list_2))"
      ],
      "id": "758cbdd5",
      "execution_count": null,
      "outputs": [
        {
          "output_type": "stream",
          "name": "stdout",
          "text": [
            "[16, 49, 81, 144, 225, 400]\n"
          ]
        }
      ]
    },
    {
      "cell_type": "code",
      "metadata": {
        "id": "847723b3"
      },
      "source": [
        "\n"
      ],
      "id": "847723b3",
      "execution_count": null,
      "outputs": []
    },
    {
      "cell_type": "markdown",
      "metadata": {
        "id": "7accf79c"
      },
      "source": [
        "# Create function which asks your name and print Hello and your Name and asks again your age and print it again."
      ],
      "id": "7accf79c"
    },
    {
      "cell_type": "code",
      "metadata": {
        "id": "0d9cf36d",
        "colab": {
          "base_uri": "https://localhost:8080/"
        },
        "outputId": "dda14326-bfe7-483a-9b1c-ca5441a742bf"
      },
      "source": [
        "NAME=str(input(\"enter the name: \"))\n",
        "print(\"hello\",NAME)"
      ],
      "id": "0d9cf36d",
      "execution_count": null,
      "outputs": [
        {
          "output_type": "stream",
          "name": "stdout",
          "text": [
            "enter the name: megha\n",
            "hello megha\n"
          ]
        }
      ]
    },
    {
      "cell_type": "code",
      "metadata": {
        "id": "1307636b",
        "colab": {
          "base_uri": "https://localhost:8080/"
        },
        "outputId": "a2fe64ba-2cd6-4f79-f348-81ae1a195a1e"
      },
      "source": [
        "AGE=str(input(\"enter your age: \"))\n",
        "print(\"YOUR AGE IS\",AGE,\".\")"
      ],
      "id": "1307636b",
      "execution_count": null,
      "outputs": [
        {
          "output_type": "stream",
          "name": "stdout",
          "text": [
            "enter your age: 20\n",
            "YOUR AGE IS 20 .\n"
          ]
        }
      ]
    },
    {
      "cell_type": "code",
      "metadata": {
        "id": "d4de5012"
      },
      "source": [
        "index=['sofa','chair','bed','cupboard','table','tv','fridge','AC','Cooler','Water cooler']"
      ],
      "id": "d4de5012",
      "execution_count": null,
      "outputs": []
    },
    {
      "cell_type": "markdown",
      "metadata": {
        "id": "4b8ec9cb"
      },
      "source": [
        "## Create a dataframe of 10 customers data having their names, address, age, expenditure, products_purchased. Index labels should have the products name that is being purchased."
      ],
      "id": "4b8ec9cb"
    },
    {
      "cell_type": "code",
      "metadata": {
        "colab": {
          "base_uri": "https://localhost:8080/",
          "height": 362
        },
        "id": "tOWHtYHgZ4Kd",
        "outputId": "bcd25d9d-5458-4070-d531-f5e9f90c9aa7"
      },
      "source": [
        "\n",
        "data = {'names':['Megha','Aditya','Pragati','poonam','riya','rita','soonam','sam','george','harsh'],\n",
        "      'address':['sakchi','adityapur','kadma','bistupur','baridih','gamharia','bistupur','kadma','sidgoda','sonari'],\n",
        "      'age':[20,21,24,40,34,45,56,43,47,34],\n",
        "      'expenditure (in lacs)':[1,2,2,3,1,2,3,4,2,3]}\n",
        "\n",
        "df=pd.DataFrame(data,index=['sofa','chair','bed','cupboard','table','tv','fridge','AC','Cooler','Water cooler'])\n",
        "df\n",
        "\n",
        "      \n",
        "           "
      ],
      "id": "tOWHtYHgZ4Kd",
      "execution_count": null,
      "outputs": [
        {
          "output_type": "execute_result",
          "data": {
            "text/html": [
              "<div>\n",
              "<style scoped>\n",
              "    .dataframe tbody tr th:only-of-type {\n",
              "        vertical-align: middle;\n",
              "    }\n",
              "\n",
              "    .dataframe tbody tr th {\n",
              "        vertical-align: top;\n",
              "    }\n",
              "\n",
              "    .dataframe thead th {\n",
              "        text-align: right;\n",
              "    }\n",
              "</style>\n",
              "<table border=\"1\" class=\"dataframe\">\n",
              "  <thead>\n",
              "    <tr style=\"text-align: right;\">\n",
              "      <th></th>\n",
              "      <th>names</th>\n",
              "      <th>address</th>\n",
              "      <th>age</th>\n",
              "      <th>expenditure (in lacs)</th>\n",
              "    </tr>\n",
              "  </thead>\n",
              "  <tbody>\n",
              "    <tr>\n",
              "      <th>sofa</th>\n",
              "      <td>Megha</td>\n",
              "      <td>sakchi</td>\n",
              "      <td>20</td>\n",
              "      <td>1</td>\n",
              "    </tr>\n",
              "    <tr>\n",
              "      <th>chair</th>\n",
              "      <td>Aditya</td>\n",
              "      <td>adityapur</td>\n",
              "      <td>21</td>\n",
              "      <td>2</td>\n",
              "    </tr>\n",
              "    <tr>\n",
              "      <th>bed</th>\n",
              "      <td>Pragati</td>\n",
              "      <td>kadma</td>\n",
              "      <td>24</td>\n",
              "      <td>2</td>\n",
              "    </tr>\n",
              "    <tr>\n",
              "      <th>cupboard</th>\n",
              "      <td>poonam</td>\n",
              "      <td>bistupur</td>\n",
              "      <td>40</td>\n",
              "      <td>3</td>\n",
              "    </tr>\n",
              "    <tr>\n",
              "      <th>table</th>\n",
              "      <td>riya</td>\n",
              "      <td>baridih</td>\n",
              "      <td>34</td>\n",
              "      <td>1</td>\n",
              "    </tr>\n",
              "    <tr>\n",
              "      <th>tv</th>\n",
              "      <td>rita</td>\n",
              "      <td>gamharia</td>\n",
              "      <td>45</td>\n",
              "      <td>2</td>\n",
              "    </tr>\n",
              "    <tr>\n",
              "      <th>fridge</th>\n",
              "      <td>soonam</td>\n",
              "      <td>bistupur</td>\n",
              "      <td>56</td>\n",
              "      <td>3</td>\n",
              "    </tr>\n",
              "    <tr>\n",
              "      <th>AC</th>\n",
              "      <td>sam</td>\n",
              "      <td>kadma</td>\n",
              "      <td>43</td>\n",
              "      <td>4</td>\n",
              "    </tr>\n",
              "    <tr>\n",
              "      <th>Cooler</th>\n",
              "      <td>george</td>\n",
              "      <td>sidgoda</td>\n",
              "      <td>47</td>\n",
              "      <td>2</td>\n",
              "    </tr>\n",
              "    <tr>\n",
              "      <th>Water cooler</th>\n",
              "      <td>harsh</td>\n",
              "      <td>sonari</td>\n",
              "      <td>34</td>\n",
              "      <td>3</td>\n",
              "    </tr>\n",
              "  </tbody>\n",
              "</table>\n",
              "</div>"
            ],
            "text/plain": [
              "                names    address  age  expenditure (in lacs)\n",
              "sofa            Megha     sakchi   20                      1\n",
              "chair          Aditya  adityapur   21                      2\n",
              "bed           Pragati      kadma   24                      2\n",
              "cupboard       poonam   bistupur   40                      3\n",
              "table            riya    baridih   34                      1\n",
              "tv               rita   gamharia   45                      2\n",
              "fridge         soonam   bistupur   56                      3\n",
              "AC                sam      kadma   43                      4\n",
              "Cooler         george    sidgoda   47                      2\n",
              "Water cooler    harsh     sonari   34                      3"
            ]
          },
          "metadata": {},
          "execution_count": 10
        }
      ]
    },
    {
      "cell_type": "code",
      "metadata": {
        "id": "f112a3c5"
      },
      "source": [
        ""
      ],
      "id": "f112a3c5",
      "execution_count": null,
      "outputs": []
    }
  ]
}